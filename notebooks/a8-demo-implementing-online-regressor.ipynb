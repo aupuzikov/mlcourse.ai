{
 "cells": [
  {
   "cell_type": "markdown",
   "metadata": {
    "_uuid": "e7b6d47fd0acfa7f50fb062aa0ea9c5e39d5702a"
   },
   "source": [
    "<center>\n",
    "<img src=\"https://habrastorage.org/files/fd4/502/43d/fd450243dd604b81b9713213a247aa20.jpg\" />\n",
    "    \n",
    "## [mlcourse.ai](https://mlcourse.ai) – Open Machine Learning Course \n",
    "\n",
    "Author: [Yury Kashnitskiy](https://yorko.github.io). Translated by [Sergey Oreshkov](https://www.linkedin.com/in/sergeoreshkov/). This material is subject to the terms and conditions of the [Creative Commons CC BY-NC-SA 4.0](https://creativecommons.org/licenses/by-nc-sa/4.0/) license. Free use is permitted for any non-commercial purpose."
   ]
  },
  {
   "cell_type": "markdown",
   "metadata": {
    "_uuid": "29bacf3cd638678716d8acd0aac384c802f580b2",
    "collapsed": true
   },
   "source": [
    "# <center> Assignment #8 (demo)\n",
    "\n",
    "## <center> Implementation of online regressor"
   ]
  },
  {
   "cell_type": "markdown",
   "metadata": {
    "_uuid": "ab60e2f37db47b71f08414ea20a335bacb699fb5"
   },
   "source": [
    "Here we'll implement a regressor trained with stochastic gradient descent (SGD). Fill in the missing code. If you do evething right, you'll pass a simple embedded test."
   ]
  },
  {
   "cell_type": "markdown",
   "metadata": {
    "_uuid": "004ac2081acafc7bb2c3b48bec97815be48e3256"
   },
   "source": [
    "## <center>Linear regression and Stochastic Gradient Descent"
   ]
  },
  {
   "cell_type": "code",
   "execution_count": 1,
   "metadata": {
    "_uuid": "a6b0bb1582f5593c7f02cd5219eaccb28758c9f0"
   },
   "outputs": [],
   "source": [
    "import numpy as np\n",
    "import pandas as pd\n",
    "from tqdm import tqdm\n",
    "from sklearn.base import BaseEstimator\n",
    "from sklearn.metrics import mean_squared_error, log_loss, roc_auc_score\n",
    "from sklearn.model_selection import train_test_split\n",
    "%matplotlib inline\n",
    "from matplotlib import pyplot as plt\n",
    "import seaborn as sns\n",
    "from sklearn.preprocessing import StandardScaler"
   ]
  },
  {
   "cell_type": "markdown",
   "metadata": {
    "_uuid": "4046185f0d664d32e72585d85bf929db97b87222"
   },
   "source": [
    "Implement class `SGDRegressor`. Specification:\n",
    "- class is inherited from `sklearn.base.BaseEstimator`\n",
    "- constructor takes parameters `eta` – gradient step ($10^{-3}$ by default) and `n_epochs` – dataset pass count (3 by default)\n",
    "- constructor also creates `mse_` and `weights_` lists in order to track mean squared error and weight vector during gradient descent iterations\n",
    "- Class has `fit` and `predict` methods\n",
    "- The `fit` method takes matrix `X` and vector `y` (`numpy.array` objects) as parameters, appends column of ones to  `X` on the left side, initializes weight vector `w` with **zeros** and then makes `n_epochs` iterations of weight updates (you may refer to this [article](https://medium.com/open-machine-learning-course/open-machine-learning-course-topic-8-vowpal-wabbit-fast-learning-with-gigabytes-of-data-60f750086237) for details), and for every iteration logs mean squared error and weight vector `w` in corresponding lists we created in the constructor. \n",
    "- Additionally the `fit` method will create `w_` variable to store weights which produce minimal mean squared error\n",
    "- The `fit` method returns current instance of the `SGDRegressor` class, i.e. `self`\n",
    "- The `predict` method takes `X` matrix, adds column of ones to the left side and returns prediction vector, using weight vector `w_`, created by the `fit` method."
   ]
  },
  {
   "cell_type": "code",
   "execution_count": 2,
   "metadata": {
    "_uuid": "70b6bac0390e590377c2c22562a006636eaa4cc4"
   },
   "outputs": [],
   "source": [
    "class SGDRegressor(BaseEstimator):\n",
    "    # you code here\n",
    "    def __init__(self, eta=1e-3, num_epochs=3, batch_size=1):\n",
    "        self.eta = eta\n",
    "        self.num_epochs = num_epochs\n",
    "        self.mse_ = []\n",
    "        self.weights_ = []\n",
    "        self.batch_size = batch_size\n",
    "\n",
    "        \n",
    "    def fit(self, X:np.array, y:np.array):\n",
    "        objects_len, weights_len = X.shape\n",
    "        weights = np.zeros(weights_len + 1)[:, np.newaxis]\n",
    "        X_with_ones = np.concatenate([np.ones(objects_len)[:,np.newaxis],X], axis=1)\n",
    "        import math\n",
    "#         import pdb; pdb.set_trace()\n",
    "        mse_min = math.inf\n",
    "        for i in range(self.num_epochs):\n",
    "            for j in range(0, objects_len, self.batch_size):\n",
    "                ending = objects_len if j + self.batch_size >= objects_len else j + self.batch_size \n",
    "                X_with_ones_batched = X_with_ones[j:ending ]\n",
    "                y_true_batched = y[j:ending]\n",
    "                y_predicted = np.dot(X_with_ones_batched,weights)\n",
    "#                \n",
    "                weights = (weights + self.eta * np.dot((y_true_batched  - y_predicted).transpose(), X_with_ones_batched).transpose()).copy()\n",
    "#                 import pdb; pdb.set_trace()\n",
    "                loss = self.__mean_squared_error_(y, np.dot(X_with_ones,weights))\n",
    "                self.mse_.append(loss)\n",
    "                self.weights_.append(weights)\n",
    "                if(loss < mse_min):\n",
    "                    mse_min = loss\n",
    "                    self.w_ = weights\n",
    "        return self\n",
    "            \n",
    "    def __mean_squared_error_(self, y_real, y_predicted):\n",
    "        return mean_squared_error(y_real , y_predicted)\n",
    "    \n",
    "    def predict(self, X):\n",
    "        objects_len, weights_len = X.shape\n",
    "        X_with_ones = np.concatenate([np.ones(objects_len)[:,np.newaxis],X], axis=1)\n",
    "        return np.dot(X_with_ones,self.w_)"
   ]
  },
  {
   "cell_type": "markdown",
   "metadata": {
    "_uuid": "4e0bc1895989329650557bc8f469cb33f692d1a4"
   },
   "source": [
    "# Let's test out the algorithm on height/weight data. We will predict heights (in inches) based on weights (in lbs)."
   ]
  },
  {
   "cell_type": "code",
   "execution_count": 3,
   "metadata": {
    "_uuid": "4baa092f182db4ac4f2cc8d4557c5ed09a89b178"
   },
   "outputs": [],
   "source": [
    "data_demo = pd.read_csv('../data/weights_heights.csv')"
   ]
  },
  {
   "cell_type": "code",
   "execution_count": 4,
   "metadata": {
    "_uuid": "4a1a3dacc860c74d2c39811e28af0d0cc69dd0ea"
   },
   "outputs": [
    {
     "data": {
      "image/png": "[encoded data removed]",
      "text/plain": [
       "<Figure size 432x288 with 1 Axes>"
      ]
     },
     "metadata": {
      "needs_background": "light"
     },
     "output_type": "display_data"
    }
   ],
   "source": [
    "plt.scatter(data_demo['Weight'], data_demo['Height']);\n",
    "plt.xlabel('Weight (lbs)')\n",
    "plt.ylabel('Height (Inch)')\n",
    "plt.grid();"
   ]
  },
  {
   "cell_type": "code",
   "execution_count": 5,
   "metadata": {
    "_uuid": "760f39db3fd5efefe9e9e1b001b6df034f9575a7"
   },
   "outputs": [],
   "source": [
    "X, y = data_demo['Weight'].values, data_demo['Height'].values\n",
    "X = X[:, np.newaxis]\n",
    "y = y[:, np.newaxis]"
   ]
  },
  {
   "cell_type": "markdown",
   "metadata": {
    "_uuid": "47bc57020935c57feadea43025d28adea20e31a7"
   },
   "source": [
    "Perform train/test split and scale data."
   ]
  },
  {
   "cell_type": "code",
   "execution_count": 6,
   "metadata": {
    "_uuid": "3908032cf11872f75c0794c89600f452d8ba1175"
   },
   "outputs": [],
   "source": [
    "X_train, X_valid, y_train, y_valid = train_test_split(X, y,\n",
    "                                                     test_size=0.3,\n",
    "                                                     random_state=17)"
   ]
  },
  {
   "cell_type": "code",
   "execution_count": 7,
   "metadata": {
    "_uuid": "5c72768f019fa199027dfa60e50d979dafa90885"
   },
   "outputs": [],
   "source": [
    "scaler = StandardScaler()\n",
    "X_train_scaled = scaler.fit_transform(X_train.reshape([-1, 1]))\n",
    "X_valid_scaled = scaler.transform(X_valid.reshape([-1, 1]))"
   ]
  },
  {
   "cell_type": "markdown",
   "metadata": {
    "_uuid": "3dd1cfd5964170a4e916171a7906a88215831508"
   },
   "source": [
    "Train created `SGDRegressor` with `(X_train_scaled, y_train)` data. Leave default parameter values for now."
   ]
  },
  {
   "cell_type": "code",
   "execution_count": 8,
   "metadata": {},
   "outputs": [
    {
     "data": {
      "text/plain": [
       "((25000, 1), (25000, 1))"
      ]
     },
     "execution_count": 8,
     "metadata": {},
     "output_type": "execute_result"
    }
   ],
   "source": [
    "X.shape, y.shape"
   ]
  },
  {
   "cell_type": "code",
   "execution_count": 9,
   "metadata": {
    "_uuid": "01bb8e49a0499e48b5bee2c38fb9ffbd3247ff3e"
   },
   "outputs": [
    {
     "data": {
      "text/plain": [
       "SGDRegressor()"
      ]
     },
     "execution_count": 9,
     "metadata": {},
     "output_type": "execute_result"
    }
   ],
   "source": [
    "### you code here\n",
    "model = SGDRegressor(num_epochs=3)\n",
    "model.fit(X_train_scaled, y_train)"
   ]
  },
  {
   "cell_type": "code",
   "execution_count": 10,
   "metadata": {},
   "outputs": [
    {
     "data": {
      "text/plain": [
       "(52500, 2.7151352406643627, 12626)"
      ]
     },
     "execution_count": 10,
     "metadata": {},
     "output_type": "execute_result"
    }
   ],
   "source": [
    "len(model.mse_), np.min(model.mse_), np.argmin(model.mse_)"
   ]
  },
  {
   "cell_type": "markdown",
   "metadata": {
    "_uuid": "b6ca9a0486cf1c89fd6edb70759a939353b857ef"
   },
   "source": [
    "Draw a chart with training process  – dependency of mean squared error from the i-th SGD iteration number."
   ]
  },
  {
   "cell_type": "code",
   "execution_count": 11,
   "metadata": {
    "_uuid": "ca8dd04db2eba86340308ba96e49d80dbb0f15df"
   },
   "outputs": [
    {
     "data": {
      "text/plain": [
       "Text(0, 0.5, 'mse')"
      ]
     },
     "execution_count": 11,
     "metadata": {},
     "output_type": "execute_result"
    },
    {
     "data": {
      "image/png": "[encoded data removed]",
      "text/plain": [
       "<Figure size 432x288 with 1 Axes>"
      ]
     },
     "metadata": {
      "needs_background": "light"
     },
     "output_type": "display_data"
    }
   ],
   "source": [
    "plt.scatter( range(1, len(model.mse_)+1),model.mse_);\n",
    "plt.xlabel('iteration')\n",
    "plt.ylabel('mse')"
   ]
  },
  {
   "cell_type": "markdown",
   "metadata": {
    "_uuid": "1efe52d81eeec338817647a7c57f46a860f41d31"
   },
   "source": [
    "Print the minimal value of mean squared error and the best weights vector."
   ]
  },
  {
   "cell_type": "code",
   "execution_count": 12,
   "metadata": {
    "_uuid": "84808aab7acaf5fd49a92e5a1877163e97b94906"
   },
   "outputs": [
    {
     "data": {
      "text/plain": [
       "(2.7151352406643627,\n",
       " array([[67.9898497 ],\n",
       "        [ 0.94447605]]))"
      ]
     },
     "execution_count": 12,
     "metadata": {},
     "output_type": "execute_result"
    }
   ],
   "source": [
    "# you code here\n",
    "min(model.mse_), model.w_"
   ]
  },
  {
   "cell_type": "markdown",
   "metadata": {
    "_uuid": "91bb34f2d42f87b7b352dfa38c07e233863154ce"
   },
   "source": [
    "Draw chart of model weights ($w_0$ and $w_1$) behavior during training."
   ]
  },
  {
   "cell_type": "code",
   "execution_count": 13,
   "metadata": {
    "_uuid": "b382dcaaaa8dffc4813e34cace68c63635f2dddb"
   },
   "outputs": [
    {
     "data": {
      "text/plain": [
       "Text(0, 0.5, 'weight')"
      ]
     },
     "execution_count": 13,
     "metadata": {},
     "output_type": "execute_result"
    },
    {
     "data": {
      "image/png": "[encoded data removed]",
      "text/plain": [
       "<Figure size 432x288 with 1 Axes>"
      ]
     },
     "metadata": {
      "needs_background": "light"
     },
     "output_type": "display_data"
    }
   ],
   "source": [
    "# you code here\n",
    "plt.plot(range(1, len(model.weights_)+1),np.array(model.weights_)[::,0] );\n",
    "plt.plot(range(1, len(model.weights_)+1),np.array(model.weights_)[::,1]);\n",
    "plt.legend(('w0', 'w1'))\n",
    "plt.xlabel('iteration')\n",
    "plt.ylabel('weight')\n"
   ]
  },
  {
   "cell_type": "markdown",
   "metadata": {
    "_uuid": "c8bed1eb24256d97164ab396b02ad8fb0eabe069"
   },
   "source": [
    "Make a prediction for hold-out  set `(X_valid_scaled, y_valid)` and check MSE value."
   ]
  },
  {
   "cell_type": "code",
   "execution_count": 14,
   "metadata": {
    "_uuid": "61206ff5908cd4c9a04ce08c2caef6e81b3c204e"
   },
   "outputs": [
    {
     "data": {
      "text/plain": [
       "2.670868120703378"
      ]
     },
     "execution_count": 14,
     "metadata": {},
     "output_type": "execute_result"
    }
   ],
   "source": [
    "# you code here\n",
    "y_test_predicted = model.predict(X_valid_scaled)\n",
    "sgd_holdout_mse = mean_squared_error(y_test_predicted, y_valid)\n",
    "sgd_holdout_mse "
   ]
  },
  {
   "cell_type": "markdown",
   "metadata": {
    "_uuid": "1b4450206464e151b40f32443c90716f7527740b"
   },
   "source": [
    "Do the same thing for `LinearRegression` class from `sklearn.linear_model`. Evaluate MSE for hold-out set."
   ]
  },
  {
   "cell_type": "code",
   "execution_count": 15,
   "metadata": {
    "_uuid": "9af850fa4a66d596df7143abec65eaf06264f477",
    "scrolled": true
   },
   "outputs": [
    {
     "data": {
      "text/plain": [
       "2.670830767667634"
      ]
     },
     "execution_count": 15,
     "metadata": {},
     "output_type": "execute_result"
    }
   ],
   "source": [
    "# you code here\n",
    "from sklearn.linear_model import LinearRegression\n",
    "linear_model = LinearRegression()\n",
    "linear_model.fit(X_train_scaled, y_train)\n",
    "y_predicted_linear = linear_model.predict(X_valid_scaled)\n",
    "linreg_holdout_mse = mean_squared_error(y_predicted_linear, y_valid)\n",
    "linreg_holdout_mse"
   ]
  },
  {
   "cell_type": "code",
   "execution_count": 16,
   "metadata": {
    "_uuid": "61e4706c45d87b09d6e9ea03a7bd8ac6eae3ee17"
   },
   "outputs": [
    {
     "name": "stdout",
     "output_type": "stream",
     "text": [
      "Correct!\n"
     ]
    }
   ],
   "source": [
    "try:\n",
    "    assert (sgd_holdout_mse - linreg_holdout_mse) < 1e-4\n",
    "    print('Correct!')\n",
    "except AssertionError:\n",
    "    print(\"Something's not good.\\n Linreg's holdout MSE: {}\"\n",
    "          \"\\n SGD's holdout MSE: {}\".format(linreg_holdout_mse, \n",
    "                                            sgd_holdout_mse))"
   ]
  }
 ],
 "metadata": {
  "anaconda-cloud": {},
  "kernelspec": {
   "display_name": "Python 3",
   "language": "python",
   "name": "python3"
  },
  "language_info": {
   "codemirror_mode": {
    "name": "ipython",
    "version": 3
   },
   "file_extension": ".py",
   "mimetype": "text/x-python",
   "name": "python",
   "nbconvert_exporter": "python",
   "pygments_lexer": "ipython3",
   "version": "3.8.3"
  }
 },
 "nbformat": 4,
 "nbformat_minor": 1
}
